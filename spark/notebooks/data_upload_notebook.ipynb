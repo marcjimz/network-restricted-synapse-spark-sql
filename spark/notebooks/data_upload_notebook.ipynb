{
 "cells": [
  {
   "cell_type": "code",
   "execution_count": 10,
   "metadata": {
    "jupyter": {
     "outputs_hidden": false,
     "source_hidden": false
    },
    "nteract": {
     "transient": {
      "deleting": false
     }
    }
   },
   "outputs": [
    {
     "data": {
      "application/vnd.livy.statement-meta+json": {
       "execution_finish_time": "2024-12-06T02:56:05.0816237Z",
       "execution_start_time": "2024-12-06T02:55:36.3212034Z",
       "livy_statement_state": "available",
       "normalized_state": "finished",
       "parent_msg_id": "2837e425-0598-42b3-8cb8-9df7bf7f2c8f",
       "queued_time": "2024-12-06T02:55:36.2305729Z",
       "session_id": "0",
       "session_start_time": null,
       "spark_jobs": null,
       "spark_pool": "default",
       "state": "finished",
       "statement_id": 18,
       "statement_ids": [
        14,
        15,
        16,
        17,
        18
       ]
      },
      "text/plain": [
       "StatementMeta(default, 0, 18, Finished, Available, Finished)"
      ]
     },
     "metadata": {},
     "output_type": "display_data"
    },
    {
     "data": {},
     "execution_count": 10,
     "metadata": {},
     "output_type": "execute_result"
    },
    {
     "name": "stdout",
     "output_type": "stream",
     "text": [
      "Collecting pymssql\n",
      "  Downloading pymssql-2.3.2-cp310-cp310-manylinux_2_28_x86_64.whl (4.6 MB)\n",
      "\u001b[2K     \u001b[90m━━━━━━━━━━━━━━━━━━━━━━━━━━━━━━━━━━━━━━━━\u001b[0m \u001b[32m4.6/4.6 MB\u001b[0m \u001b[31m30.9 MB/s\u001b[0m eta \u001b[36m0:00:00\u001b[0m00:01\u001b[0m00:01\u001b[0m\n",
      "\u001b[?25hInstalling collected packages: pymssql\n",
      "Successfully installed pymssql-2.3.2\n",
      "\n",
      "\u001b[1m[\u001b[0m\u001b[34;49mnotice\u001b[0m\u001b[1;39;49m]\u001b[0m\u001b[39;49m A new release of pip is available: \u001b[0m\u001b[31;49m23.1.2\u001b[0m\u001b[39;49m -> \u001b[0m\u001b[32;49m24.3.1\u001b[0m\n",
      "\u001b[1m[\u001b[0m\u001b[34;49mnotice\u001b[0m\u001b[1;39;49m]\u001b[0m\u001b[39;49m To update, run: \u001b[0m\u001b[32;49mpython -m pip install --upgrade pip\u001b[0m\n",
      "Note: you may need to restart the kernel to use updated packages.\n"
     ]
    },
    {
     "data": {},
     "execution_count": 10,
     "metadata": {},
     "output_type": "execute_result"
    },
    {
     "name": "stdout",
     "output_type": "stream",
     "text": [
      "Warning: PySpark kernel has been restarted to use updated packages.\n",
      "\n"
     ]
    }
   ],
   "source": [
    "%pip install pymssql"
   ]
  },
  {
   "cell_type": "code",
   "execution_count": 11,
   "metadata": {},
   "outputs": [
    {
     "data": {
      "application/vnd.livy.statement-meta+json": {
       "execution_finish_time": "2024-12-06T02:56:59.4707184Z",
       "execution_start_time": "2024-12-06T02:56:59.3163728Z",
       "livy_statement_state": "available",
       "normalized_state": "finished",
       "parent_msg_id": "4211a69a-c299-4bc3-89bc-f35bde3750be",
       "queued_time": "2024-12-06T02:56:54.2922519Z",
       "session_id": "0",
       "session_start_time": null,
       "spark_jobs": null,
       "spark_pool": "default",
       "state": "finished",
       "statement_id": 20,
       "statement_ids": [
        20
       ]
      },
      "text/plain": [
       "StatementMeta(default, 0, 20, Finished, Available, Finished)"
      ]
     },
     "metadata": {},
     "output_type": "display_data"
    }
   ],
   "source": [
    "import pyodbc\n",
    "import pymssql\n",
    "\n",
    "# Parameters for SQL VM connection\n",
    "sql_username = \"azureuser\"  # Replace with your SQL VM username\n",
    "sql_password = \"YourSecureP@ssw0rd123!\"  # Replace with your SQL VM password\n",
    "database_name = \"IRIS_DB\"\n",
    "sql_vm_ip = \"104.46.206.201\""
   ]
  },
  {
   "cell_type": "code",
   "execution_count": 15,
   "metadata": {
    "jupyter": {
     "outputs_hidden": false,
     "source_hidden": false
    },
    "nteract": {
     "transient": {
      "deleting": false
     }
    }
   },
   "outputs": [
    {
     "data": {
      "application/vnd.livy.statement-meta+json": {
       "execution_finish_time": "2024-12-06T02:58:09.6441987Z",
       "execution_start_time": "2024-12-06T02:58:09.4951882Z",
       "livy_statement_state": "available",
       "normalized_state": "finished",
       "parent_msg_id": "ca277380-a630-4989-940e-40cf45fcb5ff",
       "queued_time": "2024-12-06T02:58:09.3707393Z",
       "session_id": "0",
       "session_start_time": null,
       "spark_jobs": null,
       "spark_pool": "default",
       "state": "finished",
       "statement_id": 24,
       "statement_ids": [
        24
       ]
      },
      "text/plain": [
       "StatementMeta(default, 0, 24, Finished, Available, Finished)"
      ]
     },
     "metadata": {},
     "output_type": "display_data"
    }
   ],
   "source": [
    "create_database_query = f\"IF NOT EXISTS (SELECT name FROM sys.databases WHERE name = '{database_name}') CREATE DATABASE {database_name};\"\n",
    "create_table_query = \"\"\"\n",
    "IF NOT EXISTS (SELECT * FROM sysobjects WHERE name='Iris' AND xtype='U')\n",
    "BEGIN\n",
    "    CREATE TABLE Iris (\n",
    "        Id INT IDENTITY(1,1) PRIMARY KEY,\n",
    "        SepalLength FLOAT NOT NULL,\n",
    "        SepalWidth FLOAT NOT NULL,\n",
    "        PetalLength FLOAT NOT NULL,\n",
    "        PetalWidth FLOAT NOT NULL,\n",
    "        Species NVARCHAR(50) NOT NULL\n",
    "    )\n",
    "END\n",
    "\"\"\""
   ]
  },
  {
   "cell_type": "code",
   "execution_count": 18,
   "metadata": {
    "jupyter": {
     "outputs_hidden": false,
     "source_hidden": false
    },
    "nteract": {
     "transient": {
      "deleting": false
     }
    }
   },
   "outputs": [
    {
     "data": {
      "application/vnd.livy.statement-meta+json": {
       "execution_finish_time": "2024-12-06T02:59:18.1779233Z",
       "execution_start_time": "2024-12-06T02:59:18.0333889Z",
       "livy_statement_state": "available",
       "normalized_state": "finished",
       "parent_msg_id": "8ef3dc0b-50f5-4f6c-9d57-42ff17fb5636",
       "queued_time": "2024-12-06T02:59:17.9037123Z",
       "session_id": "0",
       "session_start_time": null,
       "spark_jobs": null,
       "spark_pool": "default",
       "state": "finished",
       "statement_id": 27,
       "statement_ids": [
        27
       ]
      },
      "text/plain": [
       "StatementMeta(default, 0, 27, Finished, Available, Finished)"
      ]
     },
     "metadata": {},
     "output_type": "display_data"
    }
   ],
   "source": [
    "def execute_sql_query(sql_vm_ip, query, use_database=None):\n",
    "    try:\n",
    "        # Connect to SQL Server\n",
    "        conn = pymssql.connect(\n",
    "            server=sql_vm_ip,\n",
    "            user=sql_username,\n",
    "            password=sql_password,\n",
    "            database=use_database\n",
    "        )\n",
    "        conn.autocommit(True)  # Set autocommit to True for non-transactional commands\n",
    "        cursor = conn.cursor()\n",
    "        print(f\"Connected to {'database' if use_database else 'server'}.\")\n",
    "\n",
    "        # Execute query\n",
    "        cursor.execute(query)\n",
    "        conn.commit()\n",
    "        print(\"SQL query executed successfully.\")\n",
    "\n",
    "        # Close connection\n",
    "        cursor.close()\n",
    "        conn.close()\n",
    "        print(\"Connection closed.\")\n",
    "    except Exception as e:\n",
    "        print(\"An error occurred:\", e)\n"
   ]
  },
  {
   "cell_type": "code",
   "execution_count": 19,
   "metadata": {
    "jupyter": {
     "outputs_hidden": false,
     "source_hidden": false
    },
    "nteract": {
     "transient": {
      "deleting": false
     }
    }
   },
   "outputs": [
    {
     "data": {
      "application/vnd.livy.statement-meta+json": {
       "execution_finish_time": "2024-12-06T02:59:20.21Z",
       "execution_start_time": "2024-12-06T02:59:19.1271099Z",
       "livy_statement_state": "available",
       "normalized_state": "finished",
       "parent_msg_id": "3bfe761d-8334-4a4a-a41a-0528ea535857",
       "queued_time": "2024-12-06T02:59:18.9988516Z",
       "session_id": "0",
       "session_start_time": null,
       "spark_jobs": null,
       "spark_pool": "default",
       "state": "finished",
       "statement_id": 28,
       "statement_ids": [
        28
       ]
      },
      "text/plain": [
       "StatementMeta(default, 0, 28, Finished, Available, Finished)"
      ]
     },
     "metadata": {},
     "output_type": "display_data"
    },
    {
     "name": "stdout",
     "output_type": "stream",
     "text": [
      "Connected to server.\n",
      "SQL query executed successfully.\n",
      "Connection closed.\n"
     ]
    }
   ],
   "source": [
    "execute_sql_query(sql_vm_ip, create_database_query)"
   ]
  },
  {
   "cell_type": "code",
   "execution_count": 20,
   "metadata": {
    "jupyter": {
     "outputs_hidden": false,
     "source_hidden": false
    },
    "nteract": {
     "transient": {
      "deleting": false
     }
    }
   },
   "outputs": [
    {
     "data": {
      "application/vnd.livy.statement-meta+json": {
       "execution_finish_time": "2024-12-06T02:59:28.2566286Z",
       "execution_start_time": "2024-12-06T02:59:28.1065013Z",
       "livy_statement_state": "available",
       "normalized_state": "finished",
       "parent_msg_id": "371ca1d8-0ffb-444a-85b2-e02478b85ad8",
       "queued_time": "2024-12-06T02:59:27.9823066Z",
       "session_id": "0",
       "session_start_time": null,
       "spark_jobs": null,
       "spark_pool": "default",
       "state": "finished",
       "statement_id": 29,
       "statement_ids": [
        29
       ]
      },
      "text/plain": [
       "StatementMeta(default, 0, 29, Finished, Available, Finished)"
      ]
     },
     "metadata": {},
     "output_type": "display_data"
    },
    {
     "name": "stdout",
     "output_type": "stream",
     "text": [
      "Connected to database.\n",
      "SQL query executed successfully.\n",
      "Connection closed.\n"
     ]
    }
   ],
   "source": [
    "execute_sql_query(sql_vm_ip, create_table_query, use_database=database_name)"
   ]
  },
  {
   "cell_type": "code",
   "execution_count": 29,
   "metadata": {
    "jupyter": {
     "outputs_hidden": false,
     "source_hidden": false
    },
    "nteract": {
     "transient": {
      "deleting": false
     }
    }
   },
   "outputs": [
    {
     "data": {
      "application/vnd.livy.statement-meta+json": {
       "execution_finish_time": "2024-12-06T03:25:35.5914483Z",
       "execution_start_time": "2024-12-06T03:25:34.5102041Z",
       "livy_statement_state": "available",
       "normalized_state": "finished",
       "parent_msg_id": "d3e5c217-3b15-420c-9e96-b37703add939",
       "queued_time": "2024-12-06T03:25:33.6834913Z",
       "session_id": "0",
       "session_start_time": null,
       "spark_jobs": null,
       "spark_pool": "default",
       "state": "finished",
       "statement_id": 38,
       "statement_ids": [
        38
       ]
      },
      "text/plain": [
       "StatementMeta(default, 0, 38, Finished, Available, Finished)"
      ]
     },
     "metadata": {},
     "output_type": "display_data"
    },
    {
     "name": "stdout",
     "output_type": "stream",
     "text": [
      "Iris dataset downloaded to /tmp/iris.csv\n",
      "   sepal_length  sepal_width  petal_length  petal_width      species\n",
      "0           5.1          3.5           1.4          0.2  Iris-setosa\n",
      "1           4.9          3.0           1.4          0.2  Iris-setosa\n",
      "2           4.7          3.2           1.3          0.2  Iris-setosa\n",
      "3           4.6          3.1           1.5          0.2  Iris-setosa\n",
      "4           5.0          3.6           1.4          0.2  Iris-setosa\n"
     ]
    }
   ],
   "source": [
    "import requests\n",
    "import pandas as pd\n",
    "\n",
    "iris_url = \"https://archive.ics.uci.edu/ml/machine-learning-databases/iris/iris.data\"\n",
    "\n",
    "# Download the file locally\n",
    "local_file_path = \"/tmp/iris.csv\"\n",
    "response = requests.get(iris_url)\n",
    "with open(local_file_path, \"w\") as file:\n",
    "    file.write(response.text)\n",
    "print(f\"Iris dataset downloaded to {local_file_path}\")\n",
    "\n",
    "columns = [\"sepal_length\", \"sepal_width\", \"petal_length\", \"petal_width\", \"species\"]\n",
    "\n",
    "# Load the dataset\n",
    "iris_pandas_df = pd.read_csv(local_file_path, header=None, names=columns)\n",
    "\n",
    "print(iris_pandas_df.head())"
   ]
  },
  {
   "cell_type": "code",
   "execution_count": 31,
   "metadata": {
    "jupyter": {
     "outputs_hidden": false,
     "source_hidden": false
    },
    "nteract": {
     "transient": {
      "deleting": false
     }
    }
   },
   "outputs": [
    {
     "data": {
      "application/vnd.livy.statement-meta+json": {
       "execution_finish_time": "2024-12-06T03:27:14.0712373Z",
       "execution_start_time": "2024-12-06T03:27:13.9174442Z",
       "livy_statement_state": "available",
       "normalized_state": "finished",
       "parent_msg_id": "ad9ed56d-0375-419b-b6f6-a7efa78bcee1",
       "queued_time": "2024-12-06T03:27:13.7824017Z",
       "session_id": "0",
       "session_start_time": null,
       "spark_jobs": null,
       "spark_pool": "default",
       "state": "finished",
       "statement_id": 40,
       "statement_ids": [
        40
       ]
      },
      "text/plain": [
       "StatementMeta(default, 0, 40, Finished, Available, Finished)"
      ]
     },
     "metadata": {},
     "output_type": "display_data"
    },
    {
     "name": "stdout",
     "output_type": "stream",
     "text": [
      "+------------+-----------+------------+-----------+-----------+\n",
      "|sepal_length|sepal_width|petal_length|petal_width|    species|\n",
      "+------------+-----------+------------+-----------+-----------+\n",
      "|         5.1|        3.5|         1.4|        0.2|Iris-setosa|\n",
      "|         4.9|        3.0|         1.4|        0.2|Iris-setosa|\n",
      "|         4.7|        3.2|         1.3|        0.2|Iris-setosa|\n",
      "|         4.6|        3.1|         1.5|        0.2|Iris-setosa|\n",
      "|         5.0|        3.6|         1.4|        0.2|Iris-setosa|\n",
      "+------------+-----------+------------+-----------+-----------+\n",
      "only showing top 5 rows\n",
      "\n"
     ]
    }
   ],
   "source": [
    "iris_spark_df = spark.createDataFrame(iris_pandas_df)\n",
    "iris_spark_df.show(5)"
   ]
  },
  {
   "cell_type": "code",
   "execution_count": 32,
   "metadata": {
    "jupyter": {
     "outputs_hidden": false,
     "source_hidden": false
    },
    "nteract": {
     "transient": {
      "deleting": false
     }
    }
   },
   "outputs": [
    {
     "data": {
      "application/vnd.livy.statement-meta+json": {
       "execution_finish_time": "2024-12-06T03:30:07.0026245Z",
       "execution_start_time": "2024-12-06T03:30:06.8517121Z",
       "livy_statement_state": "available",
       "normalized_state": "finished",
       "parent_msg_id": "000f4022-6941-4952-ace2-e986ecdaf404",
       "queued_time": "2024-12-06T03:30:06.7202548Z",
       "session_id": "0",
       "session_start_time": null,
       "spark_jobs": null,
       "spark_pool": "default",
       "state": "finished",
       "statement_id": 41,
       "statement_ids": [
        41
       ]
      },
      "text/plain": [
       "StatementMeta(default, 0, 41, Finished, Available, Finished)"
      ]
     },
     "metadata": {},
     "output_type": "display_data"
    }
   ],
   "source": [
    "jdbc_url = f\"jdbc:sqlserver://{sql_vm_ip}:1433;databaseName=IRIS_DB\"\n",
    "properties = {\n",
    "    \"user\": sql_username,\n",
    "    \"password\": sql_password,\n",
    "    \"driver\": \"com.microsoft.sqlserver.jdbc.SQLServerDriver\"\n",
    "}"
   ]
  },
  {
   "cell_type": "code",
   "execution_count": 33,
   "metadata": {
    "jupyter": {
     "outputs_hidden": false,
     "source_hidden": false
    },
    "nteract": {
     "transient": {
      "deleting": false
     }
    }
   },
   "outputs": [
    {
     "data": {
      "application/vnd.livy.statement-meta+json": {
       "execution_finish_time": "2024-12-06T03:30:20.7523131Z",
       "execution_start_time": "2024-12-06T03:30:12.1947063Z",
       "livy_statement_state": "available",
       "normalized_state": "finished",
       "parent_msg_id": "5417caea-0de8-4c87-aa59-de2535dea4cf",
       "queued_time": "2024-12-06T03:30:12.069797Z",
       "session_id": "0",
       "session_start_time": null,
       "spark_jobs": null,
       "spark_pool": "default",
       "state": "finished",
       "statement_id": 42,
       "statement_ids": [
        42
       ]
      },
      "text/plain": [
       "StatementMeta(default, 0, 42, Finished, Available, Finished)"
      ]
     },
     "metadata": {},
     "output_type": "display_data"
    }
   ],
   "source": [
    "# Write the DataFrame to the SQL table\n",
    "iris_spark_df.write.jdbc(url=jdbc_url, table=\"Iris\", mode=\"overwrite\", properties=properties)"
   ]
  },
  {
   "cell_type": "code",
   "execution_count": 34,
   "metadata": {
    "jupyter": {
     "outputs_hidden": false,
     "source_hidden": false
    },
    "nteract": {
     "transient": {
      "deleting": false
     }
    }
   },
   "outputs": [
    {
     "data": {
      "application/vnd.livy.statement-meta+json": {
       "execution_finish_time": "2024-12-06T03:31:09.1827995Z",
       "execution_start_time": "2024-12-06T03:31:09.0352151Z",
       "livy_statement_state": "available",
       "normalized_state": "finished",
       "parent_msg_id": "c252699d-4c0e-44f7-8bb7-96735e359d77",
       "queued_time": "2024-12-06T03:31:08.8960286Z",
       "session_id": "0",
       "session_start_time": null,
       "spark_jobs": null,
       "spark_pool": "default",
       "state": "finished",
       "statement_id": 43,
       "statement_ids": [
        43
       ]
      },
      "text/plain": [
       "StatementMeta(default, 0, 43, Finished, Available, Finished)"
      ]
     },
     "metadata": {},
     "output_type": "display_data"
    },
    {
     "name": "stdout",
     "output_type": "stream",
     "text": [
      "Connected to database.\n",
      "Query executed successfully. Results:\n",
      "(5.0, 2.3, 3.3, 1.0, 'Iris-versicolor')\n",
      "(5.6, 2.7, 4.2, 1.3, 'Iris-versicolor')\n",
      "(5.7, 3.0, 4.2, 1.2, 'Iris-versicolor')\n",
      "(5.7, 2.9, 4.2, 1.3, 'Iris-versicolor')\n",
      "(6.2, 2.9, 4.3, 1.3, 'Iris-versicolor')\n",
      "(5.1, 2.5, 3.0, 1.1, 'Iris-versicolor')\n",
      "(5.7, 2.8, 4.1, 1.3, 'Iris-versicolor')\n",
      "(6.3, 3.3, 6.0, 2.5, 'Iris-virginica')\n",
      "(5.8, 2.7, 5.1, 1.9, 'Iris-virginica')\n",
      "(7.1, 3.0, 5.9, 2.1, 'Iris-virginica')\n",
      "Connection closed.\n"
     ]
    }
   ],
   "source": [
    "def fetch_results_from_sql(sql_vm_ip, query, use_database=None):\n",
    "    try:\n",
    "        # Connect to SQL Server\n",
    "        conn = pymssql.connect(\n",
    "            server=sql_vm_ip,\n",
    "            user=sql_username,\n",
    "            password=sql_password,\n",
    "            database=use_database\n",
    "        )\n",
    "        cursor = conn.cursor()\n",
    "        print(f\"Connected to {'database' if use_database else 'server'}.\")\n",
    "\n",
    "        # Execute query\n",
    "        cursor.execute(query)\n",
    "        results = cursor.fetchall()  # Fetch all results\n",
    "\n",
    "        # Print results\n",
    "        print(\"Query executed successfully. Results:\")\n",
    "        for row in results:\n",
    "            print(row)\n",
    "\n",
    "        # Close connection\n",
    "        cursor.close()\n",
    "        conn.close()\n",
    "        print(\"Connection closed.\")\n",
    "        return results\n",
    "    except Exception as e:\n",
    "        print(\"An error occurred:\", e)\n",
    "\n",
    "# Query to fetch top 10 results\n",
    "fetch_query = \"SELECT TOP 10 * FROM Iris;\"\n",
    "\n",
    "# Call the function to execute and fetch results\n",
    "results = fetch_results_from_sql(sql_vm_ip, fetch_query, use_database=database_name)"
   ]
  },
  {
   "cell_type": "code",
   "execution_count": null,
   "metadata": {
    "jupyter": {
     "outputs_hidden": false,
     "source_hidden": false
    },
    "nteract": {
     "transient": {
      "deleting": false
     }
    }
   },
   "outputs": [],
   "source": []
  }
 ],
 "metadata": {
  "kernel_info": {
   "name": "synapse_pyspark"
  },
  "kernelspec": {
   "display_name": "Synapse PySpark",
   "language": "Python",
   "name": "synapse_pyspark"
  },
  "language_info": {
   "name": "python"
  },
  "save_output": true,
  "synapse_widget": {
   "state": {},
   "version": "0.1"
  }
 },
 "nbformat": 4,
 "nbformat_minor": 2
}
